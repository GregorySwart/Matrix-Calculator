{
 "cells": [
  {
   "cell_type": "code",
   "execution_count": 1,
   "metadata": {},
   "outputs": [
    {
     "name": "stdout",
     "output_type": "stream",
     "text": [
      "You will now define a matrix. Please enter only integers!\n",
      "Row 1 column 1: 2\n",
      "Row 1 column 2: 1\n",
      "Row 1 column 3: 2\n",
      "Row 2 column 1: 3\n",
      "Row 2 column 2: 4\n",
      "Row 2 column 3: 5\n",
      "Row 3 column 1: 6\n",
      "Row 3 column 2: 7\n",
      "Row 3 column 3: 8\n",
      "    [2, 1, 2]\n",
      "A = [3, 4, 5]\n",
      "    [6, 7, 8]\n"
     ]
    }
   ],
   "source": [
    "#User-defined 3 by 3 matrix\n",
    "\n",
    "A = [[11,12,13],[21,22,23],[31,32,330]]\n",
    "\n",
    "print(\"You will now define a matrix. Please enter only integers!\")\n",
    "for i in range(0,len(A)):\n",
    "    for j in range(0,len(A[i])):\n",
    "        A[i][j] = int(input(\"Row \"+str(i+1)+\" column \"+str(j+1)+\": \"))\n",
    "\n",
    "for i in range(0, len(A)):\n",
    "    if(i == 0 or i == 2):\n",
    "        print(\"    \" + str(A[i]))\n",
    "    else:\n",
    "        print(\"A = \" + str(A[i]))"
   ]
  },
  {
   "cell_type": "code",
   "execution_count": 14,
   "metadata": {},
   "outputs": [
    {
     "name": "stdout",
     "output_type": "stream",
     "text": [
      "-2970\n",
      "-31\n"
     ]
    }
   ],
   "source": [
    "#Define functions to find determinants of 2*2 and 3*3 matrices\n",
    "\n",
    "A = [[11,12,13],[21,22,23],[31,32,330]]\n",
    "def det3(A):\n",
    "    det = A[0][0]*(A[1][1]*A[2][2]-A[1][2]*A[2][1]) - A[0][1]*(A[1][0]*A[2][2]-A[1][2]*A[2][0]) + A[0][2]*(A[1][0]*A[2][1]-A[1][1]*A[2][0])\n",
    "    return(det)\n",
    "\n",
    "print(det3(A))\n",
    "\n",
    "\n",
    "B = [[11,13],[21,22]]\n",
    "\n",
    "def det2(B):\n",
    "    det = B[0][0]*B[1][1]-B[1][0]*B[0][1]\n",
    "    return(det)\n",
    "\n",
    "print(det2(B))"
   ]
  },
  {
   "cell_type": "code",
   "execution_count": 16,
   "metadata": {
    "scrolled": true
   },
   "outputs": [
    {
     "name": "stdout",
     "output_type": "stream",
     "text": [
      "Enter a number: 22\n",
      "Enter a number: 65\n",
      "Enter a number: 34\n",
      "Enter a number: 78\n",
      "Enter a number: 98\n",
      "Enter a number: 34\n",
      "Enter a number: 78\n",
      "Enter a number: 45\n",
      "Enter a number: 67\n",
      "\n",
      "    [22, 65, 34]\n",
      "A = [78, 98, 34]\n",
      "    [78, 45, 67]\n",
      "\n",
      "The determinant of the matrix A is -197074\n"
     ]
    }
   ],
   "source": [
    "# Determinant finder\n",
    "A = [[1,0,0],[0,1,0],[0,0,1]]\n",
    "\n",
    "for i in range(0,len(A)):\n",
    "    for j in range(0,len(A[i])):\n",
    "        A[i][j] = int(input(\"Enter a number: \"))\n",
    "\n",
    "print(\"\")\n",
    "\n",
    "for i in range(0, len(A)):\n",
    "    if(i == 0 or i == 2):\n",
    "        print(\"    \" + str(A[i]))\n",
    "    else:\n",
    "        print(\"A = \" + str(A[i]))\n",
    "\n",
    "print(\"\")\n",
    "\n",
    "print(\"The determinant of the matrix A is \" + str(det3(A)))\n"
   ]
  },
  {
   "cell_type": "code",
   "execution_count": 35,
   "metadata": {},
   "outputs": [
    {
     "data": {
      "text/plain": [
       "[[20, 26], [47, 62]]"
      ]
     },
     "execution_count": 35,
     "metadata": {},
     "output_type": "execute_result"
    }
   ],
   "source": [
    "#Define matrix multiplication for 3by3 and 2by2\n",
    "A = [[1,200,3],[4,5,6],[7,8,9]]\n",
    "B = [[9,8,7],[6,5,4],[3,2,1]]\n",
    "C = [[2,3],[3,4],[4,5]]\n",
    "D = [[1,2,3],[4,5,6]]\n",
    "X = [[1,7],[4,13]]\n",
    "Y = [[3,8],[6,9]]\n",
    "\n",
    "def mult22(A,B):\n",
    "    AB = [[1,0],[0,1]]\n",
    "    AB[0][0] = A[0][0]*B[0][0] + A[0][1]*B[1][0]\n",
    "    AB[0][1] = A[0][0]*B[0][1] + A[0][1]*B[1][1]\n",
    "    AB[1][0] = A[1][0]*B[0][0] + A[1][1]*B[1][0]\n",
    "    AB[1][1] = A[1][0]*B[0][1] + A[1][1]*B[1][1]\n",
    "    return(AB)\n",
    "\n",
    "def mult33(A,B):\n",
    "    AB = [[1,0,0],[0,1,0],[0,0,1]]\n",
    "    AB[0][0] = A[0][0]*B[0][0] + A[0][1]*B[1][0] + A[0][2]*B[2][0]\n",
    "    AB[0][1] = A[0][0]*B[0][1] + A[0][1]*B[1][1] + A[0][2]*B[2][1]\n",
    "    AB[0][2] = A[0][0]*B[0][2] + A[0][1]*B[1][2] + A[0][2]*B[2][2]\n",
    "    AB[1][0] = A[1][0]*B[0][0] + A[1][1]*B[1][0] + A[1][2]*B[2][0]\n",
    "    AB[1][1] = A[1][0]*B[0][1] + A[1][1]*B[1][1] + A[1][2]*B[2][1]\n",
    "    AB[1][2] = A[1][0]*B[0][2] + A[1][1]*B[1][2] + A[1][2]*B[2][2]\n",
    "    AB[2][0] = A[2][0]*B[0][0] + A[2][1]*B[1][0] + A[2][2]*B[2][0]\n",
    "    AB[2][1] = A[2][0]*B[0][1] + A[2][1]*B[1][1] + A[2][2]*B[2][1]\n",
    "    AB[2][2] = A[2][0]*B[0][2] + A[2][1]*B[1][2] + A[2][2]*B[2][2]\n",
    "    return(AB)\n",
    "\n",
    "#define matrix multiplication for n by m pairs of matrices\n",
    "def mult(A,B):\n",
    "    if(len(A[0]) != len(B)):\n",
    "        print(\"Matrix dimensions are not compatible! Returning 0.\")\n",
    "        return(0)\n",
    "    nrow = len(A)\n",
    "    ncol = len(A[0])\n",
    "    C = []\n",
    "    nrow2 = len(B)\n",
    "    ncol2 = len(B[0])\n",
    "    for i in range(0,nrow): \n",
    "        C.append([])\n",
    "    for i in C:\n",
    "        for j in range(0,ncol2):\n",
    "            i.append(0)\n",
    "    for i in range(0,nrow):\n",
    "        for j in range(0,ncol2):\n",
    "            for k in range(0,ncol):\n",
    "                C[i][j] = C[i][j] + A[i][k]*B[k][j]\n",
    "    return(C)\n",
    "    \n",
    "mult(C,D)"
   ]
  },
  {
   "cell_type": "code",
   "execution_count": null,
   "metadata": {},
   "outputs": [],
   "source": [
    "## Define matrix addition for user-defined matrices (any dimension)\n",
    "\n",
    "def adddef():\n",
    "    A = []\n",
    "    B = []\n",
    "    C = []\n",
    "    while True:\n",
    "        try:\n",
    "            ncol = int(input(\"Please enter the number of columns (integer): \"))\n",
    "            break\n",
    "        except ValueError:\n",
    "            print(\"Oops!  That was no valid number.  Try again...\")\n",
    "    while True:\n",
    "        try:\n",
    "            nrow = int(input(\"Please enter the number of rows (integer): \"))\n",
    "            break\n",
    "        except ValueError:\n",
    "            print(\"Oops!  That was no valid number.  Try again...\")\n",
    "    for i in range(0,nrow):\n",
    "        A.append([])\n",
    "    for i in A:\n",
    "        for j in range(0,ncol):\n",
    "            i.append(0)\n",
    "    for i in range(0,nrow):\n",
    "        for j in range(0,ncol):\n",
    "            while True:\n",
    "                try:\n",
    "                    A[i][j] = int(input(\"Row \"+str(i+1)+\" column \"+str(j+1)+\" of matrix A: \"))\n",
    "                    break\n",
    "                except ValueError:\n",
    "                    print(\"Oops!  That was no valid number.  Try again...\")\n",
    "    #\n",
    "    for i in range(0,nrow): \n",
    "        B.append([])\n",
    "    for i in B:\n",
    "        for j in range(0,ncol):\n",
    "            i.append(0)\n",
    "    for i in range(0,nrow):\n",
    "        for j in range(0,ncol):\n",
    "            while True:\n",
    "                try:\n",
    "                    B[i][j] = int(input(\"Row \"+str(i+1)+\" column \"+str(j+1)+\" of matrix B: \"))\n",
    "                    break\n",
    "                except ValueError:\n",
    "                    print(\"Oops!  That was no valid number.  Try again...\")\n",
    "    for i in range(0,nrow): \n",
    "        C.append([])\n",
    "    for i in C:\n",
    "        for j in range(0,ncol):\n",
    "            i.append(0)\n",
    "    for i in range(0,len(A)):\n",
    "        for j in range(0,len(A[i])):\n",
    "            C[i][j] = A[i][j]+B[i][j]\n",
    "    print(\"\")\n",
    "    print(\"A + B = C\")\n",
    "    print(\"\")\n",
    "    for i in range(0,len(C)):\n",
    "        if(i==0):\n",
    "            print(str(A[i])+\" + \"+str(B[i])+\" = \"+str(C[i]))\n",
    "        else:\n",
    "            print(str(A[i])+\"   \"+str(B[i])+\"   \"+str(C[i]))\n",
    "        \n",
    "    \n",
    "    return(C)\n",
    "\n",
    "adddef()"
   ]
  },
  {
   "cell_type": "code",
   "execution_count": 54,
   "metadata": {},
   "outputs": [
    {
     "name": "stdout",
     "output_type": "stream",
     "text": [
      "Please enter the number of columns (integer): 2\n",
      "Please enter the number of rows (integer): 2\n",
      "Row 1 column 1 of matrix A: 1\n",
      "Row 1 column 2 of matrix A: 1\n",
      "Row 2 column 1 of matrix A: 1\n",
      "Row 2 column 2 of matrix A: 1\n",
      "Row 1 column 1 of matrix B: 2\n",
      "Row 1 column 2 of matrix B: 2\n",
      "Row 2 column 1 of matrix B: 2\n",
      "Row 2 column 2 of matrix B: 2\n",
      "[[0, 0], [0, 0]]\n"
     ]
    }
   ],
   "source": [
    "def mult():\n",
    "    A = []\n",
    "    B = []\n",
    "    C = []\n",
    "    while True:\n",
    "        try:\n",
    "            ncol = int(input(\"Please enter the number of columns (integer): \"))\n",
    "            break\n",
    "        except ValueError:\n",
    "            print(\"Oops!  That was no valid number.  Try again...\")\n",
    "    while True:\n",
    "        try:\n",
    "            nrow = int(input(\"Please enter the number of rows (integer): \"))\n",
    "            break\n",
    "        except ValueError:\n",
    "            print(\"Oops!  That was no valid number.  Try again...\")\n",
    "    for i in range(0,nrow):\n",
    "        A.append([])\n",
    "    for i in A:\n",
    "        for j in range(0,ncol):\n",
    "            i.append(0)\n",
    "    for i in range(0,nrow):\n",
    "        for j in range(0,ncol):\n",
    "            while True:\n",
    "                try:\n",
    "                    A[i][j] = int(input(\"Row \"+str(i+1)+\" column \"+str(j+1)+\" of matrix A: \"))\n",
    "                    break\n",
    "                except ValueError:\n",
    "                    print(\"Oops!  That was no valid number.  Try again...\")\n",
    "    #\n",
    "    for i in range(0,nrow): \n",
    "        B.append([])\n",
    "    for i in B:\n",
    "        for j in range(0,ncol):\n",
    "            i.append(0)\n",
    "    for i in range(0,nrow):\n",
    "        for j in range(0,ncol):\n",
    "            while True:\n",
    "                try:\n",
    "                    B[i][j] = int(input(\"Row \"+str(i+1)+\" column \"+str(j+1)+\" of matrix B: \"))\n",
    "                    break\n",
    "                except ValueError:\n",
    "                    print(\"Oops!  That was no valid number.  Try again...\")\n",
    "    for i in range(0,nrow): \n",
    "        C.append([])\n",
    "    for i in C:\n",
    "        for j in range(0,ncol):\n",
    "            i.append(0)\n",
    "    print(C)\n",
    "\n",
    "mult()"
   ]
  },
  {
   "cell_type": "code",
   "execution_count": 6,
   "metadata": {},
   "outputs": [
    {
     "name": "stdout",
     "output_type": "stream",
     "text": [
      "What would you like to do? Type 'm' to mutliply, 'd' to find a determinant.\n",
      "What would you like to do? hello\n",
      "Looks like you didn't select an applicable option! \n",
      "What would you like to do? m\n"
     ]
    }
   ],
   "source": [
    "print(\"What would you like to do? Type 'm' to mutliply, 'd' to find a determinant.\")\n",
    "\n",
    "\n",
    "\n",
    "choice = \"\"\n",
    "while (choice != \"d\" and choice != \"m\"):\n",
    "    choice = input(\"What would you like to do? \")\n",
    "    if (choice != \"d\" and choice != \"m\"):\n",
    "        print(\"Looks like you didn't select an applicable option! \")\n",
    "    if (choice == \"d\"):\n",
    "        choice = input(\"Do you want to multiply 2 by 2 or 3 by 3? (2/3) \")\n",
    "\n",
    "    \n",
    "    "
   ]
  },
  {
   "cell_type": "code",
   "execution_count": 3,
   "metadata": {},
   "outputs": [
    {
     "name": "stdout",
     "output_type": "stream",
     "text": [
      "Please enter a number: g\n",
      "Oops!  That was no valid number.  Try again...\n",
      "Please enter a number: 4\n"
     ]
    }
   ],
   "source": [
    "while True:\n",
    "     try:\n",
    "         x = int(input(\"Please enter a number: \"))\n",
    "         break\n",
    "     except ValueError:\n",
    "         print(\"Oops!  That was no valid number.  Try again...\")"
   ]
  },
  {
   "cell_type": "code",
   "execution_count": null,
   "metadata": {},
   "outputs": [],
   "source": [
    "print(\"Please enter the dimensions of the matrix you want to work with.\")\n",
    "\n",
    "#The calculator asks for the dimensions of the matrix\n",
    "\n",
    "while True:\n",
    "        try:\n",
    "            nrow = int(input(\"Desired number of rows: \"))\n",
    "            break\n",
    "        except ValueError:\n",
    "            print(\"Oops!  That was no valid number.  Try again...\")\n",
    "while True:\n",
    "        try:\n",
    "            ncol = int(input(\"Desired number of columns: \"))\n",
    "            break\n",
    "        except ValueError:\n",
    "            print(\"Oops!  That was no valid number.  Try again...\")\n",
    "\n",
    "#We go on to specify the matrix\n",
    "A = []\n",
    "for i in range(0,nrow):\n",
    "    A.append([])\n",
    "for i in A:\n",
    "    for j in range(0,ncol):\n",
    "        i.append(0)\n",
    "\n",
    "print(\"Starting with empty matrix.\")\n",
    "for i in A:\n",
    "    print(i)\n",
    "\n",
    "for i in range(0,nrow):\n",
    "    for j in range(0,ncol):\n",
    "        while True:\n",
    "            try:\n",
    "                A[i][j] = int(input(\"Row \"+str(i+1)+\" column \"+str(j+1)+\" of matrix B: \"))\n",
    "                break\n",
    "            except ValueError:\n",
    "                print(\"Oops!  That was no valid number.  Try again...\")\n",
    "\n",
    "print(\"The matrix you specified is the following:\")\n",
    "for i in A:\n",
    "    print(i)\n",
    "\n",
    "action = \"\"\n",
    "choices = [\"m\",\"d\"]\n",
    "while (action not in choices):\n",
    "    action = input(\"What do you want to do with this matrix? Type 'h' for options. \")\n",
    "    if(action not in choices and action != \"h\"):\n",
    "        print(\"Looks like you didn't select an applicable option. Please try again! \")\n",
    "    if(action == \"h\"):\n",
    "        print(\"h - Help\")\n",
    "        print(\"m - Multiply this matrix by another matrix.\")\n",
    "        print(\"d - Find the determinant of this matrix\")\n",
    "    if(action == \"m\"):\n",
    "        print(\"Please specify the dimensions of the second matrix! (Keep in mind, the number of COLUMNS of the first matrix needs to be the same as the number of ROWS in the second matrix.)\")\n",
    "        while True:\n",
    "            try:\n",
    "                nrow2 = int(input(\"Desired number of rows for the second matrix: \"))\n",
    "                break\n",
    "            except ValueError:\n",
    "                print(\"Oops!  That was no valid number.  Try again...\")\n",
    "        while True:\n",
    "            try:\n",
    "                ncol2 = int(input(\"Desired number of columns for the second matrix: \"))\n",
    "                break\n",
    "            except ValueError:\n",
    "                print(\"Oops!  That was no valid number.  Try again...\")\n",
    "        if(ncol != nrow2):\n",
    "            print(\"Error: Matrix dimensions incompatible. Calculator will now exit.\")\n",
    "    #else:\n",
    "    #    print(\"Great! Let's carry on!\")"
   ]
  },
  {
   "cell_type": "code",
   "execution_count": null,
   "metadata": {},
   "outputs": [],
   "source": [
    "choice = \"\"\n",
    "while (choice != \"d\" and choice != \"m\"):\n",
    "    choice = input(\"What would you like to do? \")\n",
    "    if (choice != \"d\" and choice != \"m\"):\n",
    "        print(\"Looks like you didn't select an applicable option! \")\n",
    "    if (choice == \"d\"):\n",
    "        choice = input(\"Do you want to multiply 2 by 2 or 3 by 3? (2/3) \")"
   ]
  },
  {
   "cell_type": "code",
   "execution_count": 54,
   "metadata": {},
   "outputs": [
    {
     "name": "stdout",
     "output_type": "stream",
     "text": [
      "h\n",
      "You picked something viable.\n"
     ]
    }
   ],
   "source": [
    "choices = [\"h\",\"m\",\"d\"]\n",
    "action = input()\n",
    "if(action in choices):\n",
    "    print(\"You picked something viable.\")\n",
    "else:\n",
    "    print(\"You didn't pick something viable!\")"
   ]
  }
 ],
 "metadata": {
  "kernelspec": {
   "display_name": "Python 3",
   "language": "python",
   "name": "python3"
  },
  "language_info": {
   "codemirror_mode": {
    "name": "ipython",
    "version": 3
   },
   "file_extension": ".py",
   "mimetype": "text/x-python",
   "name": "python",
   "nbconvert_exporter": "python",
   "pygments_lexer": "ipython3",
   "version": "3.7.4"
  }
 },
 "nbformat": 4,
 "nbformat_minor": 2
}
