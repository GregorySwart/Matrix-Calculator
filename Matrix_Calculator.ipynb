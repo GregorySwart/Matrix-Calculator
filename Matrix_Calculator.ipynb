{
 "cells": [
  {
   "cell_type": "code",
   "execution_count": 13,
   "metadata": {},
   "outputs": [
    {
     "name": "stdout",
     "output_type": "stream",
     "text": [
      "You will now define a matrix. Please enter only integers!\n",
      "Row 1 column 1: 5\n",
      "Row 1 column 2: 3\n",
      "Row 1 column 3: 7\n",
      "Row 2 column 1: 3\n",
      "Row 2 column 2: 8\n",
      "Row 2 column 3: 2\n",
      "Row 3 column 1: 8\n",
      "Row 3 column 2: 4\n",
      "Row 3 column 3: 8\n",
      "    [5, 3, 7]\n",
      "A = [3, 8, 2]\n",
      "    [8, 4, 8]\n"
     ]
    }
   ],
   "source": [
    "#Testing raw input\n",
    "\n",
    "A = [[11,12,13],[21,22,23],[31,32,330]]\n",
    "\n",
    "print(\"You will now define a matrix. Please enter only integers!\")\n",
    "for i in range(0,len(A)):\n",
    "    for j in range(0,len(A[i])):\n",
    "        A[i][j] = int(input(\"Row \"+str(i+1)+\" column \"+str(j+1)+\": \"))\n",
    "\n",
    "for i in range(0, len(A)):\n",
    "    if(i == 0 or i == 2):\n",
    "        print(\"    \" + str(A[i]))\n",
    "    else:\n",
    "        print(\"A = \" + str(A[i]))"
   ]
  },
  {
   "cell_type": "code",
   "execution_count": 14,
   "metadata": {},
   "outputs": [
    {
     "name": "stdout",
     "output_type": "stream",
     "text": [
      "-2970\n",
      "-31\n"
     ]
    }
   ],
   "source": [
    "#Define functions to find determinants of 2*2 and 3*3 matrices\n",
    "\n",
    "A = [[11,12,13],[21,22,23],[31,32,330]]\n",
    "def det3(A):\n",
    "    det = A[0][0]*(A[1][1]*A[2][2]-A[1][2]*A[2][1]) - A[0][1]*(A[1][0]*A[2][2]-A[1][2]*A[2][0]) + A[0][2]*(A[1][0]*A[2][1]-A[1][1]*A[2][0])\n",
    "    return(det)\n",
    "\n",
    "print(det3(A))\n",
    "\n",
    "\n",
    "B = [[11,13],[21,22]]\n",
    "\n",
    "def det2(B):\n",
    "    det = B[0][0]*B[1][1]-B[1][0]*B[0][1]\n",
    "    return(det)\n",
    "\n",
    "print(det2(B))"
   ]
  },
  {
   "cell_type": "code",
   "execution_count": 16,
   "metadata": {
    "scrolled": true
   },
   "outputs": [
    {
     "name": "stdout",
     "output_type": "stream",
     "text": [
      "Enter a number: 22\n",
      "Enter a number: 65\n",
      "Enter a number: 34\n",
      "Enter a number: 78\n",
      "Enter a number: 98\n",
      "Enter a number: 34\n",
      "Enter a number: 78\n",
      "Enter a number: 45\n",
      "Enter a number: 67\n",
      "\n",
      "    [22, 65, 34]\n",
      "A = [78, 98, 34]\n",
      "    [78, 45, 67]\n",
      "\n",
      "The determinant of the matrix A is -197074\n"
     ]
    }
   ],
   "source": [
    "# Determinant finder\n",
    "A = [[1,0,0],[0,1,0],[0,0,1]]\n",
    "\n",
    "for i in range(0,len(A)):\n",
    "    for j in range(0,len(A[i])):\n",
    "        A[i][j] = int(input(\"Enter a number: \"))\n",
    "\n",
    "print(\"\")\n",
    "\n",
    "for i in range(0, len(A)):\n",
    "    if(i == 0 or i == 2):\n",
    "        print(\"    \" + str(A[i]))\n",
    "    else:\n",
    "        print(\"A = \" + str(A[i]))\n",
    "\n",
    "print(\"\")\n",
    "\n",
    "print(\"The determinant of the matrix A is \" + str(det3(A)))\n"
   ]
  },
  {
   "cell_type": "code",
   "execution_count": 62,
   "metadata": {},
   "outputs": [
    {
     "name": "stdout",
     "output_type": "stream",
     "text": [
      "Matrix dimensions are not compatible\n"
     ]
    },
    {
     "data": {
      "text/plain": [
       "[[1, 4, 6], [0, 1, 0], [0, 0, 1]]"
      ]
     },
     "execution_count": 62,
     "metadata": {},
     "output_type": "execute_result"
    }
   ],
   "source": [
    "#Define matrix multiplication for 3by3 and 2by2\n",
    "A = [[1,4,6],[0,1,0],[0,0,1]]\n",
    "B = [[1,0,0],[0,1,5],[0,2,1]]\n",
    "\n",
    "X = [[1,7],[4,13]]\n",
    "Y = [[3,8],[6,9]]\n",
    "\n",
    "def mult22(A,B):\n",
    "    AB = [[1,0],[0,1]]\n",
    "    AB[0][0] = A[0][0]*B[0][0] + A[0][1]*B[1][0]\n",
    "    AB[0][1] = A[0][0]*B[0][1] + A[0][1]*B[1][1]\n",
    "    AB[1][0] = A[1][0]*B[0][0] + A[1][1]*B[1][0]\n",
    "    AB[1][1] = A[1][0]*B[0][1] + A[1][1]*B[1][1]\n",
    "    return(AB)\n",
    "\n",
    "def mult33(A,B):\n",
    "    AB = [[1,0,0],[0,1,0],[0,0,1]]\n",
    "    AB[0][0] = A[0][0]*B[0][0] + A[0][1]*B[1][0] + A[0][2]*B[2][0]\n",
    "    AB[0][1] = A[0][0]*B[0][1] + A[0][1]*B[1][1] + A[0][2]*B[2][1]\n",
    "    AB[0][2] = A[0][0]*B[0][2] + A[0][1]*B[1][2] + A[0][2]*B[2][2]\n",
    "    AB[1][0] = A[1][0]*B[0][0] + A[1][1]*B[1][0] + A[1][2]*B[2][0]\n",
    "    AB[1][1] = A[1][0]*B[0][1] + A[1][1]*B[1][1] + A[1][2]*B[2][1]\n",
    "    AB[1][2] = A[1][0]*B[0][2] + A[1][1]*B[1][2] + A[1][2]*B[2][2]\n",
    "    AB[2][0] = A[2][0]*B[0][0] + A[2][1]*B[1][0] + A[2][2]*B[2][0]\n",
    "    AB[2][1] = A[2][0]*B[0][1] + A[2][1]*B[1][1] + A[2][2]*B[2][1]\n",
    "    AB[2][2] = A[2][0]*B[0][2] + A[2][1]*B[1][2] + A[2][2]*B[2][2]\n",
    "    return(AB)\n",
    "\n",
    "#define matrix multiplication (only square matrices for now)\n",
    "def mult(A,B):\n",
    "    if(len(A) != len(B[0])):\n",
    "        print(\"Matrix dimensions are not compatible!\")\n",
    "        return(A)\n",
    "    if(len(A[0]) != len(B)):\n",
    "        print(\"Matrix dimensions are not compatible!\")\n",
    "        return(A)\n",
    "    for i in range(0,len(A)):\n",
    "        for j in range(0,len(A[i])):\n",
    "            print(A[i][j])\n",
    "    \n",
    "    \n",
    "mult(A,X)"
   ]
  },
  {
   "cell_type": "code",
   "execution_count": null,
   "metadata": {},
   "outputs": [],
   "source": [
    "## Define matrix addition for user-defined matrices (any dimension)\n",
    "\n",
    "def adddef():\n",
    "    A = []\n",
    "    B = []\n",
    "    C = []\n",
    "    while True:\n",
    "        try:\n",
    "            ncol = int(input(\"Please enter the number of columns (integer): \"))\n",
    "            break\n",
    "        except ValueError:\n",
    "            print(\"Oops!  That was no valid number.  Try again...\")\n",
    "    while True:\n",
    "        try:\n",
    "            nrow = int(input(\"Please enter the number of rows (integer): \"))\n",
    "            break\n",
    "        except ValueError:\n",
    "            print(\"Oops!  That was no valid number.  Try again...\")\n",
    "    for i in range(0,nrow):\n",
    "        A.append([])\n",
    "    for i in A:\n",
    "        for j in range(0,ncol):\n",
    "            i.append(0)\n",
    "    for i in range(0,nrow):\n",
    "        for j in range(0,ncol):\n",
    "            while True:\n",
    "                try:\n",
    "                    A[i][j] = int(input(\"Row \"+str(i+1)+\" column \"+str(j+1)+\" of matrix A: \"))\n",
    "                    break\n",
    "                except ValueError:\n",
    "                    print(\"Oops!  That was no valid number.  Try again...\")\n",
    "    #\n",
    "    for i in range(0,nrow): \n",
    "        B.append([])\n",
    "    for i in B:\n",
    "        for j in range(0,ncol):\n",
    "            i.append(0)\n",
    "    for i in range(0,nrow):\n",
    "        for j in range(0,ncol):\n",
    "            while True:\n",
    "                try:\n",
    "                    B[i][j] = int(input(\"Row \"+str(i+1)+\" column \"+str(j+1)+\" of matrix B: \"))\n",
    "                    break\n",
    "                except ValueError:\n",
    "                    print(\"Oops!  That was no valid number.  Try again...\")\n",
    "    for i in range(0,nrow): \n",
    "        C.append([])\n",
    "    for i in C:\n",
    "        for j in range(0,ncol):\n",
    "            i.append(0)\n",
    "    for i in range(0,len(A)):\n",
    "        for j in range(0,len(A[i])):\n",
    "            C[i][j] = A[i][j]+B[i][j]\n",
    "    print(\"\")\n",
    "    print(\"A + B = C\")\n",
    "    print(\"\")\n",
    "    for i in range(0,len(C)):\n",
    "        if(i==0):\n",
    "            print(str(A[i])+\" + \"+str(B[i])+\" = \"+str(C[i]))\n",
    "        else:\n",
    "            print(str(A[i])+\"   \"+str(B[i])+\"   \"+str(C[i]))\n",
    "        \n",
    "    \n",
    "    return(C)\n",
    "\n",
    "adddef()"
   ]
  },
  {
   "cell_type": "code",
   "execution_count": 54,
   "metadata": {},
   "outputs": [
    {
     "name": "stdout",
     "output_type": "stream",
     "text": [
      "Please enter the number of columns (integer): 2\n",
      "Please enter the number of rows (integer): 2\n",
      "Row 1 column 1 of matrix A: 1\n",
      "Row 1 column 2 of matrix A: 1\n",
      "Row 2 column 1 of matrix A: 1\n",
      "Row 2 column 2 of matrix A: 1\n",
      "Row 1 column 1 of matrix B: 2\n",
      "Row 1 column 2 of matrix B: 2\n",
      "Row 2 column 1 of matrix B: 2\n",
      "Row 2 column 2 of matrix B: 2\n",
      "[[0, 0], [0, 0]]\n"
     ]
    }
   ],
   "source": [
    "def mult():\n",
    "    A = []\n",
    "    B = []\n",
    "    C = []\n",
    "    while True:\n",
    "        try:\n",
    "            ncol = int(input(\"Please enter the number of columns (integer): \"))\n",
    "            break\n",
    "        except ValueError:\n",
    "            print(\"Oops!  That was no valid number.  Try again...\")\n",
    "    while True:\n",
    "        try:\n",
    "            nrow = int(input(\"Please enter the number of rows (integer): \"))\n",
    "            break\n",
    "        except ValueError:\n",
    "            print(\"Oops!  That was no valid number.  Try again...\")\n",
    "    for i in range(0,nrow):\n",
    "        A.append([])\n",
    "    for i in A:\n",
    "        for j in range(0,ncol):\n",
    "            i.append(0)\n",
    "    for i in range(0,nrow):\n",
    "        for j in range(0,ncol):\n",
    "            while True:\n",
    "                try:\n",
    "                    A[i][j] = int(input(\"Row \"+str(i+1)+\" column \"+str(j+1)+\" of matrix A: \"))\n",
    "                    break\n",
    "                except ValueError:\n",
    "                    print(\"Oops!  That was no valid number.  Try again...\")\n",
    "    #\n",
    "    for i in range(0,nrow): \n",
    "        B.append([])\n",
    "    for i in B:\n",
    "        for j in range(0,ncol):\n",
    "            i.append(0)\n",
    "    for i in range(0,nrow):\n",
    "        for j in range(0,ncol):\n",
    "            while True:\n",
    "                try:\n",
    "                    B[i][j] = int(input(\"Row \"+str(i+1)+\" column \"+str(j+1)+\" of matrix B: \"))\n",
    "                    break\n",
    "                except ValueError:\n",
    "                    print(\"Oops!  That was no valid number.  Try again...\")\n",
    "    for i in range(0,nrow): \n",
    "        C.append([])\n",
    "    for i in C:\n",
    "        for j in range(0,ncol):\n",
    "            i.append(0)\n",
    "    print(C)\n",
    "\n",
    "mult()"
   ]
  },
  {
   "cell_type": "code",
   "execution_count": 6,
   "metadata": {},
   "outputs": [
    {
     "name": "stdout",
     "output_type": "stream",
     "text": [
      "What would you like to do? Type 'm' to mutliply, 'd' to find a determinant.\n",
      "What would you like to do? hello\n",
      "Looks like you didn't select an applicable option! \n",
      "What would you like to do? m\n"
     ]
    }
   ],
   "source": [
    "print(\"What would you like to do? Type 'm' to mutliply, 'd' to find a determinant.\")\n",
    "\n",
    "\n",
    "\n",
    "choice = \"\"\n",
    "while (choice != \"d\" and choice != \"m\"):\n",
    "    choice = input(\"What would you like to do? \")\n",
    "    if (choice != \"d\" and choice != \"m\"):\n",
    "        print(\"Looks like you didn't select an applicable option! \")\n",
    "    if (choice == \"d\"):\n",
    "        choice = input(\"Do you want to multiply 2 by 2 or 3 by 3? (2/3) \")\n",
    "\n",
    "    \n",
    "    "
   ]
  },
  {
   "cell_type": "code",
   "execution_count": 3,
   "metadata": {},
   "outputs": [
    {
     "name": "stdout",
     "output_type": "stream",
     "text": [
      "Please enter a number: g\n",
      "Oops!  That was no valid number.  Try again...\n",
      "Please enter a number: 4\n"
     ]
    }
   ],
   "source": [
    "while True:\n",
    "     try:\n",
    "         x = int(input(\"Please enter a number: \"))\n",
    "         break\n",
    "     except ValueError:\n",
    "         print(\"Oops!  That was no valid number.  Try again...\")"
   ]
  },
  {
   "cell_type": "code",
   "execution_count": 25,
   "metadata": {},
   "outputs": [
    {
     "name": "stdout",
     "output_type": "stream",
     "text": [
      "[1]\n"
     ]
    }
   ],
   "source": [
    "A = []\n",
    "A.append(1)\n",
    "print(A)"
   ]
  }
 ],
 "metadata": {
  "kernelspec": {
   "display_name": "Python 3",
   "language": "python",
   "name": "python3"
  },
  "language_info": {
   "codemirror_mode": {
    "name": "ipython",
    "version": 3
   },
   "file_extension": ".py",
   "mimetype": "text/x-python",
   "name": "python",
   "nbconvert_exporter": "python",
   "pygments_lexer": "ipython3",
   "version": "3.7.4"
  }
 },
 "nbformat": 4,
 "nbformat_minor": 2
}
