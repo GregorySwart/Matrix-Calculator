{
 "cells": [
  {
   "cell_type": "code",
   "execution_count": 24,
   "metadata": {},
   "outputs": [
    {
     "name": "stdout",
     "output_type": "stream",
     "text": [
      "Enter a number: 1\n",
      "Enter a number: 1\n",
      "Enter a number: 1\n",
      "Enter a number: 1\n",
      "Enter a number: 1\n",
      "Enter a number: 1\n",
      "Enter a number: 1\n",
      "Enter a number: 1\n",
      "Enter a number: 1\n"
     ]
    }
   ],
   "source": [
    "#Testing raw input\n",
    "\n",
    "A = [[11,12,13],[21,22,23],[31,32,330]]\n",
    "\n",
    "for i in range(0,len(A)):\n",
    "    for j in range(0,len(A[i])):\n",
    "        A[i][j] = input(\"Enter a number: \")\n"
   ]
  },
  {
   "cell_type": "code",
   "execution_count": null,
   "metadata": {},
   "outputs": [],
   "source": []
  },
  {
   "cell_type": "code",
   "execution_count": 57,
   "metadata": {},
   "outputs": [
    {
     "name": "stdout",
     "output_type": "stream",
     "text": [
      "-2970\n",
      "-31\n"
     ]
    }
   ],
   "source": [
    "#Define functions to find determinants of 2*2 and 3*3 matrices\n",
    "\n",
    "A = [[11,12,13],[21,22,23],[31,32,330]]\n",
    "def det3(A):\n",
    "    det = A[0][0]*(A[1][1]*A[2][2]-A[1][2]*A[2][1]) - A[0][1]*(A[1][0]*A[2][2]-A[1][2]*A[2][0]) + A[0][2]*(A[1][0]*A[2][1]-A[1][1]*A[2][0])\n",
    "    return(det)\n",
    "\n",
    "print(det3(A))\n",
    "\n",
    "\n",
    "B = [[11,13],[21,22]]\n",
    "\n",
    "def det2(B):\n",
    "    det = B[0][0]*B[1][1]-B[1][0]*B[0][1]\n",
    "    return(det)\n",
    "\n",
    "print(det2(B))"
   ]
  },
  {
   "cell_type": "code",
   "execution_count": 71,
   "metadata": {
    "scrolled": true
   },
   "outputs": [
    {
     "name": "stdout",
     "output_type": "stream",
     "text": [
      "Enter a number: 2\n",
      "Enter a number: 1\n",
      "Enter a number: 1\n",
      "Enter a number: 4\n",
      "Enter a number: 3\n",
      "Enter a number: 2\n",
      "Enter a number: 0\n",
      "Enter a number: 1\n",
      "Enter a number: 0\n",
      "\n",
      "    [2, 1, 1]\n",
      "A = [4, 3, 2]\n",
      "    [0, 1, 0]\n",
      "\n",
      "The determinant of the matrix you entered is 0\n"
     ]
    }
   ],
   "source": [
    "# Determinant finder\n",
    "A = [[1,0,0],[0,1,0],[0,0,1]]\n",
    "\n",
    "for i in range(0,len(A)):\n",
    "    for j in range(0,len(A[i])):\n",
    "        A[i][j] = int(input(\"Enter a number: \"))\n",
    "\n",
    "print(\"\")\n",
    "\n",
    "for i in range(0, len(A)):\n",
    "    if(i == 0 or i == 2):\n",
    "        print(\"    \" + str(A[i]))\n",
    "    else:\n",
    "        print(\"A = \" + str(A[i]))\n",
    "\n",
    "print(\"\")\n",
    "\n",
    "print(\"The determinant of the matrix A is \" + str(det3(A)))\n"
   ]
  },
  {
   "cell_type": "code",
   "execution_count": 6,
   "metadata": {},
   "outputs": [
    {
     "data": {
      "text/plain": [
       "[[45, 71], [90, 149]]"
      ]
     },
     "execution_count": 6,
     "metadata": {},
     "output_type": "execute_result"
    }
   ],
   "source": [
    "#Define matrix multiplication\n",
    "A = [[1,4,6],[0,1,0],[0,0,1]]\n",
    "B = [[1,0,0],[0,1,5],[0,2,1]]\n",
    "\n",
    "X = [[1,7],[4,13]]\n",
    "Y = [[3,8],[6,9]]\n",
    "\n",
    "def mult22(A,B):\n",
    "    AB = [[1,0],[0,1]]\n",
    "    AB[0][0] = A[0][0]*B[0][0] + A[0][1]*B[1][0]\n",
    "    AB[0][1] = A[0][0]*B[0][1] + A[0][1]*B[1][1]\n",
    "    AB[1][0] = A[1][0]*B[0][0] + A[1][1]*B[1][0]\n",
    "    AB[1][1] = A[1][0]*B[0][1] + A[1][1]*B[1][1]\n",
    "    return(AB)\n",
    "\n",
    "def mult33(A,B):\n",
    "    AB = [[1,0,0],[0,1,0],[0,0,1]]\n",
    "    AB[0][0] = A[0][0]*B[0][0] + A[0][1]*B[1][0] + A[0][2]*B[2][0]\n",
    "    AB[0][1] = A[0][0]*B[0][1] + A[0][1]*B[1][1] + A[0][2]*B[2][1]\n",
    "    AB[0][2] = A[0][0]*B[0][2] + A[0][1]*B[1][2] + A[0][2]*B[2][2]\n",
    "    AB[1][0] = A[1][0]*B[0][0] + A[1][1]*B[1][0] + A[1][2]*B[2][0]\n",
    "    AB[1][1] = A[1][0]*B[0][1] + A[1][1]*B[1][1] + A[1][2]*B[2][1]\n",
    "    AB[1][2] = A[1][0]*B[0][2] + A[1][1]*B[1][2] + A[1][2]*B[2][2]\n",
    "    AB[2][0] = A[2][0]*B[0][0] + A[2][1]*B[1][0] + A[2][2]*B[2][0]\n",
    "    AB[2][1] = A[2][0]*B[0][1] + A[2][1]*B[1][1] + A[2][2]*B[2][1]\n",
    "    AB[2][2] = A[2][0]*B[0][2] + A[2][1]*B[1][2] + A[2][2]*B[2][2]\n",
    "    return(AB)\n",
    "\n",
    "mult33(A,B)\n",
    "mult22(X,Y)"
   ]
  },
  {
   "cell_type": "code",
   "execution_count": null,
   "metadata": {},
   "outputs": [],
   "source": [
    "print(\"Hello world\")"
   ]
  },
  {
   "cell_type": "code",
   "execution_count": null,
   "metadata": {},
   "outputs": [],
   "source": [
    "print(\"What would you like to do? Type 'm' to mutliply, 'd' to find a determinant.\")\n",
    "\n",
    "choice = \"blabla\"\n",
    "#while (choice != \"d\" or choice != \"m\"):\n",
    "#    choice = input(\"What would you like to do?\")\n",
    "#    if (choice != \"d\" or choice != \"m\"):\n",
    "#        print(\"Looks like you didn't select an applicable option!\")\n",
    "    \n",
    "    "
   ]
  },
  {
   "cell_type": "code",
   "execution_count": null,
   "metadata": {},
   "outputs": [],
   "source": []
  }
 ],
 "metadata": {
  "kernelspec": {
   "display_name": "Python 3",
   "language": "python",
   "name": "python3"
  },
  "language_info": {
   "codemirror_mode": {
    "name": "ipython",
    "version": 3
   },
   "file_extension": ".py",
   "mimetype": "text/x-python",
   "name": "python",
   "nbconvert_exporter": "python",
   "pygments_lexer": "ipython3",
   "version": "3.7.4"
  }
 },
 "nbformat": 4,
 "nbformat_minor": 2
}
